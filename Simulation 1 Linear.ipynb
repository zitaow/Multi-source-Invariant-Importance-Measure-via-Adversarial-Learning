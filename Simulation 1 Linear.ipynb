{
 "cells": [
  {
   "cell_type": "code",
   "execution_count": 1,
   "id": "0907e1ae",
   "metadata": {},
   "outputs": [],
   "source": [
    "import cvxpy as cp\n",
    "import numpy as np\n",
    "import dsp\n",
    "import mosek\n",
    "import scipy.stats as stats\n",
    "import matplotlib.pyplot as plt\n",
    "import seaborn as sns"
   ]
  },
  {
   "cell_type": "markdown",
   "id": "e5ad687a",
   "metadata": {},
   "source": [
    "Here we perform the group dro saddle programming on $(q,\\beta)$ of 3 sites with linear regression. Namely we solve $$\\max_{\\beta} \\min_{q\\in\\Delta^3} \\sum_{m=1}^3 q_m \\dfrac{1}{n_m} \\sum_{i=1}^{n_m} (y_i^2 - (y_i-x_i^T\\beta)^2)$$\n",
    "\n",
    "In using the $\\texttt{dsp}$ package, objective functions should be defined through atomic functions as outlined in https://www.cvxpy.org/tutorial/functions/index.html and https://github.com/cvxgrp/dsp?tab=readme-ov-file#new-atoms"
   ]
  },
  {
   "cell_type": "markdown",
   "id": "3cab9673",
   "metadata": {},
   "source": [
    "For the case of two sites and $(q,1-q)$ for $q\\geq 0$, given $q$, player $\\beta$'s optimal choice is to choose $$\\beta = \\dfrac{qX_1^T y_1 + (1-q)X_2^Ty_2}{qX_1^TX_1 + (1-q)X_2^T X_2},$$which reduces to the convex combination $\\beta|X = q\\beta_1+(1-q)\\beta_2$ assuming covariate homogeneity."
   ]
  },
  {
   "cell_type": "code",
   "execution_count": 6,
   "id": "8c1c1118",
   "metadata": {},
   "outputs": [],
   "source": [
    "beta_1 = np.array([5.78, -4.45, 1.26, 1.58, -1.14]+ [0]*45)\n",
    "beta_2 = np.array([2.26, -1.05, 5.78, 6.43, -1.26]+ [0]*45)\n",
    "beta_3 = np.array([1.83, -2.35, 1.34, 2.59, -6.45]+ [0]*45)\n",
    "\n",
    "B = np.vstack([beta_1,beta_2,beta_3])\n",
    "B = B.T\n",
    "\n",
    "Sigma = 3*np.eye(50)"
   ]
  },
  {
   "cell_type": "code",
   "execution_count": 14,
   "id": "6d4cca75",
   "metadata": {
    "scrolled": false
   },
   "outputs": [
    {
     "ename": "ValueError",
     "evalue": "mean and cov must have same length",
     "output_type": "error",
     "traceback": [
      "\u001b[0;31m---------------------------------------------------------------------------\u001b[0m",
      "\u001b[0;31mValueError\u001b[0m                                Traceback (most recent call last)",
      "Cell \u001b[0;32mIn[14], line 11\u001b[0m\n\u001b[1;32m      8\u001b[0m \u001b[38;5;28;01mfor\u001b[39;00m i \u001b[38;5;129;01min\u001b[39;00m \u001b[38;5;28mrange\u001b[39m(\u001b[38;5;241m500\u001b[39m):\n\u001b[1;32m      9\u001b[0m     \u001b[38;5;66;03m#generate the samples\u001b[39;00m\n\u001b[1;32m     10\u001b[0m     mean \u001b[38;5;241m=\u001b[39m np\u001b[38;5;241m.\u001b[39marray([\u001b[38;5;241m0\u001b[39m, \u001b[38;5;241m0\u001b[39m, \u001b[38;5;241m0\u001b[39m, \u001b[38;5;241m0\u001b[39m, \u001b[38;5;241m0\u001b[39m] \u001b[38;5;241m+\u001b[39m \u001b[38;5;241m45\u001b[39m\u001b[38;5;241m*\u001b[39m[\u001b[38;5;241m0\u001b[39m]) \n\u001b[0;32m---> 11\u001b[0m     X_1 \u001b[38;5;241m=\u001b[39m \u001b[43mnp\u001b[49m\u001b[38;5;241;43m.\u001b[39;49m\u001b[43mrandom\u001b[49m\u001b[38;5;241;43m.\u001b[39;49m\u001b[43mmultivariate_normal\u001b[49m\u001b[43m(\u001b[49m\u001b[43mmean\u001b[49m\u001b[43m,\u001b[49m\u001b[43m \u001b[49m\u001b[43mSigma\u001b[49m\u001b[43m,\u001b[49m\u001b[43m \u001b[49m\u001b[43mn_samples\u001b[49m\u001b[43m)\u001b[49m\n\u001b[1;32m     12\u001b[0m     epsilon \u001b[38;5;241m=\u001b[39m np\u001b[38;5;241m.\u001b[39mrandom\u001b[38;5;241m.\u001b[39mnormal(\u001b[38;5;241m0\u001b[39m, \u001b[38;5;241m1\u001b[39m, n_samples)\n\u001b[1;32m     13\u001b[0m     y_1 \u001b[38;5;241m=\u001b[39m np\u001b[38;5;241m.\u001b[39mdot(X_1, beta_1) \u001b[38;5;241m+\u001b[39m epsilon\n",
      "File \u001b[0;32mmtrand.pyx:4209\u001b[0m, in \u001b[0;36mnumpy.random.mtrand.RandomState.multivariate_normal\u001b[0;34m()\u001b[0m\n",
      "\u001b[0;31mValueError\u001b[0m: mean and cov must have same length"
     ]
    }
   ],
   "source": [
    "n_samples = 1000\n",
    "\n",
    "importance = [] #importance stores the objective values\n",
    "weighting = [] #weighting stores the optimal q\n",
    "variable = [] #variable stores the optimal beta\n",
    "stds = [] #stds stores the estimated standard deviation from the central limit theorem\n",
    "\n",
    "for i in range(500):\n",
    "    #generate the samples\n",
    "    mean = np.array([0, 0, 0, 0, 0]) \n",
    "    X_1 = np.random.multivariate_normal(mean, Sigma, n_samples)\n",
    "    epsilon = np.random.normal(0, 1, n_samples)\n",
    "    y_1 = np.dot(X_1, beta_1) + epsilon\n",
    "    \n",
    "    X_2 = np.random.multivariate_normal(mean, Sigma, n_samples)\n",
    "    epsilon = np.random.normal(0, 1, n_samples)\n",
    "    y_2 = np.dot(X_2, beta_2) + epsilon\n",
    "    \n",
    "    X_3 = np.random.multivariate_normal(mean, Sigma, n_samples)\n",
    "    epsilon = np.random.normal(0, 1, n_samples)\n",
    "    y_3 = np.dot(X_3, beta_3) + epsilon\n",
    "    \n",
    "    #initiate the variable\n",
    "    q = cp.Variable(3, nonneg=True)\n",
    "    b = cp.Variable(50)\n",
    "    \n",
    "    #calculate the variable importance and define the problem\n",
    "    imp_1 = cp.sum_squares(y_1 - np.mean(y_1)) - cp.sum_squares(y_1 - X_1 @ b)\n",
    "    imp_2 = cp.sum_squares(y_2 - np.mean(y_2)) - cp.sum_squares(y_2 - X_2 @ b) \n",
    "    imp_3 = cp.sum_squares(y_3 - np.mean(y_3)) - cp.sum_squares(y_3 - X_3 @ b)\n",
    "    \n",
    "    f = dsp.saddle_inner(q,cp.hstack([imp_1,imp_2,imp_3])/ n_samples) \n",
    "    #print(f.is_dsp()) use this line to check if your function is in compliant with the saddle programming grammar\n",
    "    obj = dsp.MinimizeMaximize(f)\n",
    "    constraints = [cp.sum(q) == 1]\n",
    "    prob = dsp.SaddlePointProblem(obj,constraints,[q],[b])\n",
    "    \n",
    "    try:\n",
    "        prob.solve(solver=\"MOSEK\")\n",
    "        importance.append(prob.value)\n",
    "        weighting.append(q.value)\n",
    "        variable.append(b.value)\n",
    "        #print(i)\n",
    "        #the below lines re-evaluate the objective values on each samples of each site for the calculation of the \n",
    "        #estimated theoretical standard deviations given in the central limit theorem\n",
    "        \n",
    "        b_val = b.value\n",
    "        site_1 = (y_1 - np.mean(y_1))**2 - (y_1 - X_1 @ b_val)**2\n",
    "        site_2 = (y_2 - np.mean(y_2))**2 - (y_2 - X_2 @ b_val)**2\n",
    "        site_3 = (y_3 - np.mean(y_3))**2 - (y_3 - X_3 @ b_val)**2\n",
    "        print(\"run\",i,\":\",np.round([np.mean(site_1), np.mean(site_2), np.mean(site_3)],4),np.round(q.value,4))\n",
    "        site_importance = np.vstack([site_1,site_2,site_3])\n",
    "        site_importance = site_importance.T\n",
    "        cov = np.cov(site_importance, rowvar = False)\n",
    "\n",
    "        var = np.dot(q.value, np.dot(cov, q.value.T))\n",
    "        std_clt = np.sqrt(var/n_samples)\n",
    "        stds.append(std_clt)\n",
    "    except Exception as e:\n",
    "        print(f\"Error on iteration {i}: {e}\")\n",
    "        continue"
   ]
  },
  {
   "cell_type": "code",
   "execution_count": 7,
   "id": "cfe56ddc",
   "metadata": {},
   "outputs": [
    {
     "name": "stdout",
     "output_type": "stream",
     "text": [
      "[0.72987216 0.50186743 0.48583203] [0.4468 0.2454 0.3077]\n"
     ]
    }
   ],
   "source": [
    "print(np.mean(variable, axis = 0),np.round(np.mean(weighting, axis = 0),4))"
   ]
  },
  {
   "cell_type": "code",
   "execution_count": 49,
   "id": "36258f6f",
   "metadata": {},
   "outputs": [
    {
     "name": "stdout",
     "output_type": "stream",
     "text": [
      "2.427441219784963 0.09608696276264468 0.09873486694844792\n",
      "0.966\n"
     ]
    }
   ],
   "source": [
    "mean, std = np.mean(importance), np.std(importance)\n",
    "std_est = np.mean(stds)\n",
    "print(mean, std, std_est)\n",
    "\n",
    "coverage = np.mean([(val <= mean + 2*std_est) & (val >= mean - 2*std_est) for val in importance])\n",
    "print(coverage)"
   ]
  },
  {
   "cell_type": "code",
   "execution_count": 50,
   "id": "21f1b237",
   "metadata": {},
   "outputs": [
    {
     "data": {
      "image/png": "[encoded data removed]",
      "text/plain": [
       "<Figure size 1000x600 with 1 Axes>"
      ]
     },
     "metadata": {},
     "output_type": "display_data"
    }
   ],
   "source": [
    "importance = np.array(importance)\n",
    "x_values = np.linspace(importance.min(), importance.max(), 100)\n",
    "\n",
    "bin_width = (importance.max() - importance.min()) / 50\n",
    "pdf_values = stats.norm.pdf(x_values, mean, std)* bin_width * 500\n",
    "plt.figure(figsize=(10, 6))\n",
    "plt.hist(importance, bins=50, alpha=0.7, color='blue')\n",
    "plt.plot(x_values, pdf_values, color='red', linewidth=2) \n",
    "plt.xlabel('Multi-Source Variable Importance')\n",
    "plt.ylabel('Frequency')\n",
    "plt.grid(True)\n",
    "plt.show()"
   ]
  },
  {
   "cell_type": "code",
   "execution_count": 51,
   "id": "aedba647",
   "metadata": {},
   "outputs": [
    {
     "name": "stdout",
     "output_type": "stream",
     "text": [
      "0.44762951135635376\n"
     ]
    }
   ],
   "source": [
    "stat, p_value = stats.shapiro(importance)\n",
    "print(p_value)"
   ]
  },
  {
   "cell_type": "markdown",
   "id": "6eb350e8",
   "metadata": {},
   "source": [
    "Here we optimize for exact solutions with proposition 1 from maximin infer (Guo, 2023)"
   ]
  },
  {
   "cell_type": "code",
   "execution_count": 7,
   "id": "b1be7549",
   "metadata": {},
   "outputs": [
    {
     "name": "stdout",
     "output_type": "stream",
     "text": [
      "[ 3.60027037 -3.04351236  2.02486524  2.77726523 -3.32305401  0.\n",
      "  0.          0.          0.          0.          0.          0.\n",
      "  0.          0.          0.          0.          0.          0.\n",
      "  0.          0.          0.          0.          0.          0.\n",
      "  0.          0.          0.          0.          0.          0.\n",
      "  0.          0.          0.          0.          0.          0.\n",
      "  0.          0.          0.          0.          0.          0.\n",
      "  0.          0.          0.          0.          0.          0.\n",
      "  0.          0.        ] [0.4305 0.162  0.4075]\n"
     ]
    }
   ],
   "source": [
    "G = B.T @ (Sigma @ B)\n",
    "q = cp.Variable(3, nonneg = True)\n",
    "objective = cp.Minimize(cp.quad_form(q, G))\n",
    "constraints = [cp.sum(q) == 1]\n",
    "prob = cp.Problem(objective, constraints)\n",
    "prob.solve()\n",
    "print(B @ q.value, np.round(q.value,4))"
   ]
  },
  {
   "cell_type": "code",
   "execution_count": 8,
   "id": "ba5c7d71",
   "metadata": {},
   "outputs": [
    {
     "data": {
      "text/plain": [
       "0.6145152232997733"
      ]
     },
     "execution_count": 8,
     "metadata": {},
     "output_type": "execute_result"
    }
   ],
   "source": [
    "np.linalg.norm(q.value)"
   ]
  },
  {
   "cell_type": "code",
   "execution_count": 9,
   "id": "bf7a6725",
   "metadata": {},
   "outputs": [
    {
     "data": {
      "text/plain": [
       "array([135.24265069, 135.24265069, 135.24265069])"
      ]
     },
     "execution_count": 9,
     "metadata": {},
     "output_type": "execute_result"
    }
   ],
   "source": [
    "b = B @ q.value\n",
    "2*(B.T@ (Sigma@b))-np.dot(b,Sigma@b)"
   ]
  },
  {
   "cell_type": "code",
   "execution_count": 6,
   "id": "b725f772",
   "metadata": {},
   "outputs": [
    {
     "name": "stdout",
     "output_type": "stream",
     "text": [
      "[[58.5945 36.6139 34.1685]\n",
      " [36.6139 82.551  39.1292]\n",
      " [34.1685 39.1292 58.9776]]\n"
     ]
    }
   ],
   "source": [
    "print(B.T @ (Sigma @ B))"
   ]
  },
  {
   "cell_type": "markdown",
   "id": "f8297a50",
   "metadata": {},
   "source": [
    "Reward function is $V(\\beta) = Y^2 - (Y-X\\beta)^2$ and $\\mathbb{E}(V(\\beta)) = \\beta^T \\text{cov}(X)\\beta$."
   ]
  },
  {
   "cell_type": "code",
   "execution_count": 9,
   "id": "592bc24f",
   "metadata": {},
   "outputs": [
    {
     "name": "stdout",
     "output_type": "stream",
     "text": [
      "0\n",
      "1\n",
      "2\n",
      "3\n",
      "4\n",
      "5\n",
      "6\n",
      "7\n",
      "8\n",
      "9\n",
      "10\n",
      "11\n",
      "12\n",
      "13\n",
      "14\n",
      "15\n",
      "16\n",
      "17\n",
      "18\n",
      "19\n"
     ]
    }
   ],
   "source": [
    "beta_1 = np.array([0.3,0.3])\n",
    "beta_2 = np.array([-0.3,-0.8])\n",
    "n_samples = 1000\n",
    "\n",
    "importance = [] #importance stores the objective values\n",
    "weighting = [] #weighting stores the optimal q\n",
    "variable = [] #variable stores the optimal beta\n",
    "\n",
    "for i in range(20):\n",
    "    #generate the samples\n",
    "    X_1 = np.random.uniform(-8, 8, (n_samples, 2))\n",
    "    epsilon = np.random.normal(0, 1, n_samples)\n",
    "    y_1 = np.dot(X_1, beta_1) + epsilon\n",
    "    \n",
    "    X_2 = np.random.uniform(-3, 3, (n_samples, 2))\n",
    "    epsilon = np.random.normal(0, 1, n_samples)\n",
    "    y_2 = np.dot(X_2, beta_2) + epsilon\n",
    "    \n",
    "    #initiate the variable\n",
    "    q = cp.Variable(2, nonneg=True)\n",
    "    b = cp.Variable(2)\n",
    "    \n",
    "    #calculate the variable importance and define the problem\n",
    "    imp_1 = cp.sum_squares(y_1 - np.mean(y_1)) - cp.sum_squares(y_1 - X_1 @ b)\n",
    "    imp_2 = cp.sum_squares(y_2 - np.mean(y_2)) - cp.sum_squares(y_2 - X_2 @ b) \n",
    "    \n",
    "    f = dsp.saddle_inner(q,cp.hstack([imp_1,imp_2])/ n_samples)\n",
    "    #print(f.is_dsp()) use this line to check if your function is in compliant with the saddle programming grammar\n",
    "    obj = dsp.MinimizeMaximize(f)\n",
    "    constraints = [cp.sum(q) == 1]\n",
    "    prob = dsp.SaddlePointProblem(obj,constraints,[q],[b])\n",
    "    \n",
    "    try:\n",
    "        prob.solve(solver=\"MOSEK\")\n",
    "        importance.append(prob.value)\n",
    "        weighting.append(q.value)\n",
    "        variable.append(b.value)\n",
    "        \n",
    "        print(i)\n",
    "    except Exception as e:\n",
    "        print(f\"Error on iteration {i}: {e}\")\n",
    "        continue"
   ]
  },
  {
   "cell_type": "code",
   "execution_count": 10,
   "id": "16c7b7f3",
   "metadata": {},
   "outputs": [
    {
     "name": "stdout",
     "output_type": "stream",
     "text": [
      "[0.22202836 0.77797164] [ 0.09541989 -0.06440626]\n"
     ]
    }
   ],
   "source": [
    "print(np.mean(weighting, axis = 0),np.mean(variable, axis = 0))"
   ]
  },
  {
   "cell_type": "code",
   "execution_count": 36,
   "id": "d3130a39",
   "metadata": {},
   "outputs": [
    {
     "name": "stdout",
     "output_type": "stream",
     "text": [
      "1.0292483491315205 0.9837741778569163\n",
      "3.240826449278722 16.00230412893565\n"
     ]
    }
   ],
   "source": [
    "b_1 = np.array([0.8,0.3])\n",
    "b_2 = np.array([0.3,0.8])\n",
    "print(np.mean((y_1 - X_1 @ b_1)**2),np.mean((y_2 - X_2 @ b_2)**2))\n",
    "print(np.mean(y_1**2),np.mean(y_2**2))"
   ]
  },
  {
   "cell_type": "code",
   "execution_count": 42,
   "id": "7169b74c",
   "metadata": {},
   "outputs": [],
   "source": [
    "def line_seg(t):\n",
    "    return t*b_1 + (1-t)*b_2\n",
    "\n",
    "vals = []\n",
    "for t in np.linspace(0,1,500):\n",
    "    vals.append(np.mean(y_2**2) - np.mean((y_2 - X_2 @ line_seg(t))**2))"
   ]
  },
  {
   "cell_type": "code",
   "execution_count": 44,
   "id": "8a4b813a",
   "metadata": {},
   "outputs": [
    {
     "data": {
      "text/plain": [
       "1.0"
      ]
     },
     "execution_count": 44,
     "metadata": {},
     "output_type": "execute_result"
    }
   ],
   "source": [
    "np.mean(vals > (np.mean(y_1**2) - np.mean((y_1 - X_1 @ b_1)**2)))"
   ]
  },
  {
   "cell_type": "markdown",
   "id": "93fa020d",
   "metadata": {},
   "source": [
    "The worst reward for the second site is better than the best reward for the first site. Therefore, irrespective of player b's choise, player q will place all mass onto the first site, and therefore player b has no choice but to move its value towards $b_1$ in order to maximize its own profit."
   ]
  },
  {
   "cell_type": "code",
   "execution_count": 2,
   "id": "ccbf8925",
   "metadata": {},
   "outputs": [
    {
     "name": "stdout",
     "output_type": "stream",
     "text": [
      "Sample Covariance using numpy's cov function: 79.70876107054829\n",
      "Cross-product Covariance: -2.842170943040401e-16\n"
     ]
    }
   ],
   "source": [
    "import numpy as np\n",
    "\n",
    "# Generate X\n",
    "X = np.arange(1, 11)\n",
    "\n",
    "# Generate epsilon (random noise)\n",
    "np.random.seed(0)  # For reproducibility\n",
    "epsilon = np.random.normal(0, 1, 10)\n",
    "\n",
    "# Generate Y\n",
    "Y = 2 * X + epsilon\n",
    "\n",
    "# Calculate the sample means\n",
    "mean_X = np.mean(X)\n",
    "mean_Y = np.mean(Y)\n",
    "\n",
    "# Calculate the sample covariance using numpy's cov function\n",
    "cov_matrix = np.cov(X, Y)\n",
    "cov_XY = cov_matrix[0, 1]\n",
    "\n",
    "# Calculate the cross-product covariance manually\n",
    "cross_product_cov = np.mean((X - mean_X)[:, None] * (Y - mean_Y))\n",
    "\n",
    "print(\"Sample Covariance using numpy's cov function:\", cov_XY)\n",
    "print(\"Cross-product Covariance:\", cross_product_cov)"
   ]
  }
 ],
 "metadata": {
  "kernelspec": {
   "display_name": "Python 3 (ipykernel)",
   "language": "python",
   "name": "python3"
  },
  "language_info": {
   "codemirror_mode": {
    "name": "ipython",
    "version": 3
   },
   "file_extension": ".py",
   "mimetype": "text/x-python",
   "name": "python",
   "nbconvert_exporter": "python",
   "pygments_lexer": "ipython3",
   "version": "3.10.13"
  }
 },
 "nbformat": 4,
 "nbformat_minor": 5
}
